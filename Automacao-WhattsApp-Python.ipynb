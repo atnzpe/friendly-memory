{
 "cells": [
  {
   "cell_type": "code",
   "execution_count": 1,
   "id": "7169a4c4",
   "metadata": {
    "scrolled": true
   },
   "outputs": [
    {
     "data": {
      "text/html": [
       "<div>\n",
       "<style scoped>\n",
       "    .dataframe tbody tr th:only-of-type {\n",
       "        vertical-align: middle;\n",
       "    }\n",
       "\n",
       "    .dataframe tbody tr th {\n",
       "        vertical-align: top;\n",
       "    }\n",
       "\n",
       "    .dataframe thead th {\n",
       "        text-align: right;\n",
       "    }\n",
       "</style>\n",
       "<table border=\"1\" class=\"dataframe\">\n",
       "  <thead>\n",
       "    <tr style=\"text-align: right;\">\n",
       "      <th></th>\n",
       "      <th>Pessoa</th>\n",
       "      <th>Número</th>\n",
       "      <th>Mensagem</th>\n",
       "    </tr>\n",
       "  </thead>\n",
       "  <tbody>\n",
       "    <tr>\n",
       "      <th>0</th>\n",
       "      <td>Gleyson</td>\n",
       "      <td>5581985391078</td>\n",
       "      <td>,tudo bem com você? Gostaria de dizer que usei...</td>\n",
       "    </tr>\n",
       "  </tbody>\n",
       "</table>\n",
       "</div>"
      ],
      "text/plain": [
       "    Pessoa         Número                                           Mensagem\n",
       "0  Gleyson  5581985391078  ,tudo bem com você? Gostaria de dizer que usei..."
      ]
     },
     "metadata": {},
     "output_type": "display_data"
    }
   ],
   "source": [
    "import pandas as pd #importei o pandas\n",
    "import time # define o tempo de espera entre o envio de uma mensagem e outra\n",
    "import urllib # serve para realizar o encode url do texto a ser enviado\n",
    "from selenium import webdriver # livro da biblioteca selenium que abre o navegador\n",
    "from selenium.webdriver.common.by import By #Permite buscar o elemento\n",
    "from selenium.webdriver.common.keys import Keys # Essa vai permitir enviar a mensagem via WhatsApp\n",
    "\n",
    "\n",
    "# Lendo a Planilha\n",
    "contacts_df = pd.read_excel(\"test_contacts_v01.xlsx\") # cria um dataframe chamado contacts_df e usa pd.read para ler atribuir a variavel\n",
    "display(contacts_df) # exibe a variavel \n",
    "\n",
    "# Inicio Bloco que abre o WhatsApp\n",
    "navegador = webdriver.Chrome() #Abre um novo navegador\n",
    "navegador.get(\"https://web.whatsapp.com/\")\n",
    "\n",
    "while len(navegador.find_elements(By.ID,\"side\")) < 1: # enquanto esta lista for menor do que 1 espera \n",
    "    time.sleep(1)\n",
    "\n",
    "# fim do bloco que abre o WhatsApp\n",
    "\n",
    "#Depois de fazer o Login no WhatsApp execute\n",
    "for i, mensagem in enumerate(contacts_df['Mensagem']): # para i enumere de contacts_df a coluna mensagem\n",
    "    pessoa = contacts_df.loc[i,\"Pessoa\"] # para variavel pessoa atribua indice de igual a i da coluna Pessoa\n",
    "    numero = contacts_df.loc[i,\"Número\"]\n",
    "    texto = urllib.parse.quote(f\"Olá {pessoa}! {mensagem}\")\n",
    "    link = f\"https://web.whatsapp.com/send?phone={numero}&text={texto}\"\n",
    "    navegador.get(link)\n",
    "    while len(navegador.find_elements(By.ID,\"side\")) < 1: # enquanto esta lista for menor do que 1 espera \n",
    "        time.sleep(10) #espera 10 segundos\n",
    "    navegador.find_element(\"xpath\",'//*[@id=\"main\"]/footer/div[1]/div/span[2]/div/div[2]/div[1]/div/div/p/span').send_keys(Keys.ENTER)\n",
    "    time.sleep(10)\n",
    "        \n",
    "        #//*[@id=\"main\"]/footer/div[1]/div/span[2]/div/div[2]/div[1]/div/div/p/span\n",
    "                               \n",
    "    "
   ]
  },
  {
   "cell_type": "code",
   "execution_count": null,
   "id": "fd39de36",
   "metadata": {},
   "outputs": [],
   "source": [
    "#import pandas as pd #importei o pandas\n",
    "#from selenium import webdriver # livro da biblioteca selenium que abre o navegador\n",
    "#from selenium.webdriver.common.by import By #Permite buscar o elemento\n",
    "#from selenium.webdriver.common.keys import Keys # Essa vai permitir enviar a mensagem via WhatsApp\n",
    "#import time # define o tempo de espera entre o envio de uma mensagem e outra\n",
    "#import urllib # serve para realizar o encode url do texto a ser enviado\n",
    "\n",
    "##contacts_df = pd.read_excel(\"contacts.xlsx\") # cria um dataframe chamado contacts_df e usa pd.read para ler atribuir a variavel\n",
    "##display(contacts_df) # exibe a variavel \n",
    "\n",
    "\n",
    "                               "
   ]
  },
  {
   "cell_type": "code",
   "execution_count": null,
   "id": "73fa6106",
   "metadata": {},
   "outputs": [],
   "source": []
  },
  {
   "cell_type": "code",
   "execution_count": null,
   "id": "cf81d12e",
   "metadata": {},
   "outputs": [],
   "source": []
  }
 ],
 "metadata": {
  "kernelspec": {
   "display_name": "Python 3 (ipykernel)",
   "language": "python",
   "name": "python3"
  },
  "language_info": {
   "codemirror_mode": {
    "name": "ipython",
    "version": 3
   },
   "file_extension": ".py",
   "mimetype": "text/x-python",
   "name": "python",
   "nbconvert_exporter": "python",
   "pygments_lexer": "ipython3",
   "version": "3.10.9"
  },
  "vscode": {
   "interpreter": {
    "hash": "4f9f5b7dbdb5612cea797ab2ab28644e5c397e76aad820ab09016a4426a31254"
   }
  }
 },
 "nbformat": 4,
 "nbformat_minor": 5
}
