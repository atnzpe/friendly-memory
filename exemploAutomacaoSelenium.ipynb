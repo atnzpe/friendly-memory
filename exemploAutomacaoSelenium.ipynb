{
 "cells": [
  {
   "cell_type": "markdown",
   "id": "e3a5a38b",
   "metadata": {},
   "source": [
    "Vamos automatizar Web com o Selenium\n"
   ]
  },
  {
   "cell_type": "markdown",
   "id": "7aed8bd6",
   "metadata": {},
   "source": [
    "1 Abra o prompt e digite **pip install selenium**"
   ]
  },
  {
   "cell_type": "markdown",
   "id": "d7a2f6c4",
   "metadata": {},
   "source": [
    "2 Vou usar o chromedriver baixado em https://chromedriver.chromium.org/downloads para usarmos o Chrome."
   ]
  },
  {
   "cell_type": "code",
   "execution_count": 1,
   "id": "e7f195c5",
   "metadata": {
    "scrolled": true
   },
   "outputs": [],
   "source": [
    "from selenium import webdriver\n",
    "\n",
    "#importa o webdriver da biblioteca selenium\n",
    "\n",
    "navegador = webdriver.Chrome() #declara uma variavel para ser o webdriver via chrome\n",
    "\n",
    "\n",
    "navegador.get('https://docs.google.com/spreadsheets/d/e/2PACX-1vTNDS3cGhgeDr1Vrp7tZpleeuCS32yzedtmQkN_ryJs0vHGTB7u7zZF54ypJqZqJhvyGt7otq9n8Ck1/pubhtml') # abre o vavedaro no link especifico\n",
    "#navegador.find_element(\"xpath\",'//*[@id=\"FpC9LEnE2evZc0hjSpuWrA==\"]').click()\n"
   ]
  },
  {
   "cell_type": "code",
   "execution_count": null,
   "id": "e73354a5",
   "metadata": {},
   "outputs": [],
   "source": []
  }
 ],
 "metadata": {
  "kernelspec": {
   "display_name": "Python 3 (ipykernel)",
   "language": "python",
   "name": "python3"
  },
  "language_info": {
   "codemirror_mode": {
    "name": "ipython",
    "version": 3
   },
   "file_extension": ".py",
   "mimetype": "text/x-python",
   "name": "python",
   "nbconvert_exporter": "python",
   "pygments_lexer": "ipython3",
   "version": "3.10.9"
  }
 },
 "nbformat": 4,
 "nbformat_minor": 5
}
